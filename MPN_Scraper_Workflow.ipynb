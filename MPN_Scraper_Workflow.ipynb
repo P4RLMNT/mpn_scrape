{
 "cells": [
  {
   "cell_type": "code",
   "execution_count": 4,
   "id": "71bded9a",
   "metadata": {},
   "outputs": [
    {
     "name": "stdout",
     "output_type": "stream",
     "text": [
      "Requirement already satisfied: pandas in ./env/lib/python3.9/site-packages (2.2.3)\n",
      "Requirement already satisfied: openpyxl in ./env/lib/python3.9/site-packages (3.1.5)\n",
      "Requirement already satisfied: beautifulsoup4 in ./env/lib/python3.9/site-packages (4.12.3)\n",
      "Requirement already satisfied: requests in ./env/lib/python3.9/site-packages (2.32.3)\n",
      "Requirement already satisfied: selenium in ./env/lib/python3.9/site-packages (4.28.1)\n",
      "Requirement already satisfied: numpy>=1.22.4 in ./env/lib/python3.9/site-packages (from pandas) (2.0.2)\n",
      "Requirement already satisfied: python-dateutil>=2.8.2 in ./env/lib/python3.9/site-packages (from pandas) (2.9.0.post0)\n",
      "Requirement already satisfied: pytz>=2020.1 in ./env/lib/python3.9/site-packages (from pandas) (2024.2)\n",
      "Requirement already satisfied: tzdata>=2022.7 in ./env/lib/python3.9/site-packages (from pandas) (2025.1)\n",
      "Requirement already satisfied: et-xmlfile in ./env/lib/python3.9/site-packages (from openpyxl) (2.0.0)\n",
      "Requirement already satisfied: soupsieve>1.2 in ./env/lib/python3.9/site-packages (from beautifulsoup4) (2.6)\n",
      "Requirement already satisfied: charset-normalizer<4,>=2 in ./env/lib/python3.9/site-packages (from requests) (3.4.1)\n",
      "Requirement already satisfied: idna<4,>=2.5 in ./env/lib/python3.9/site-packages (from requests) (3.10)\n",
      "Requirement already satisfied: urllib3<3,>=1.21.1 in ./env/lib/python3.9/site-packages (from requests) (2.3.0)\n",
      "Requirement already satisfied: certifi>=2017.4.17 in ./env/lib/python3.9/site-packages (from requests) (2024.12.14)\n",
      "Requirement already satisfied: trio~=0.17 in ./env/lib/python3.9/site-packages (from selenium) (0.28.0)\n",
      "Requirement already satisfied: trio-websocket~=0.9 in ./env/lib/python3.9/site-packages (from selenium) (0.11.1)\n",
      "Requirement already satisfied: typing_extensions~=4.9 in ./env/lib/python3.9/site-packages (from selenium) (4.12.2)\n",
      "Requirement already satisfied: websocket-client~=1.8 in ./env/lib/python3.9/site-packages (from selenium) (1.8.0)\n",
      "Requirement already satisfied: six>=1.5 in ./env/lib/python3.9/site-packages (from python-dateutil>=2.8.2->pandas) (1.17.0)\n",
      "Requirement already satisfied: attrs>=23.2.0 in ./env/lib/python3.9/site-packages (from trio~=0.17->selenium) (24.3.0)\n",
      "Requirement already satisfied: sortedcontainers in ./env/lib/python3.9/site-packages (from trio~=0.17->selenium) (2.4.0)\n",
      "Requirement already satisfied: outcome in ./env/lib/python3.9/site-packages (from trio~=0.17->selenium) (1.3.0.post0)\n",
      "Requirement already satisfied: sniffio>=1.3.0 in ./env/lib/python3.9/site-packages (from trio~=0.17->selenium) (1.3.1)\n",
      "Requirement already satisfied: exceptiongroup in ./env/lib/python3.9/site-packages (from trio~=0.17->selenium) (1.2.2)\n",
      "Requirement already satisfied: wsproto>=0.14 in ./env/lib/python3.9/site-packages (from trio-websocket~=0.9->selenium) (1.2.0)\n",
      "Requirement already satisfied: pysocks!=1.5.7,<2.0,>=1.5.6 in ./env/lib/python3.9/site-packages (from urllib3[socks]<3,>=1.26->selenium) (1.7.1)\n",
      "Requirement already satisfied: h11<1,>=0.9.0 in ./env/lib/python3.9/site-packages (from wsproto>=0.14->trio-websocket~=0.9->selenium) (0.14.0)\n"
     ]
    }
   ],
   "source": [
    "\n",
    "!pip install pandas openpyxl beautifulsoup4 requests selenium\n"
   ]
  },
  {
   "cell_type": "code",
   "execution_count": 5,
   "id": "58f32c72",
   "metadata": {},
   "outputs": [],
   "source": [
    "\n",
    "import requests\n",
    "from bs4 import BeautifulSoup\n",
    "import pandas as pd\n",
    "import csv\n",
    "from selenium import webdriver\n",
    "from selenium.webdriver.common.by import By\n",
    "from selenium.webdriver.common.keys import Keys\n",
    "from selenium.webdriver.support.ui import WebDriverWait\n",
    "from selenium.webdriver.support import expected_conditions as EC\n",
    "import time\n"
   ]
  },
  {
   "cell_type": "code",
   "execution_count": 3,
   "id": "636efd9d-1604-4354-b057-048e39325951",
   "metadata": {},
   "outputs": [],
   "source": [
    "class Product:\n",
    "    def __init__(self, mpn, price=None):\n",
    "        self.mpn = mpn\n",
    "        self.price = price\n",
    "\n",
    "    def __repr__(self):\n",
    "        return f\"Product(MPN={self.mpn}, Price={self.price})\""
   ]
  },
  {
   "cell_type": "code",
   "execution_count": null,
   "id": "64f95eb8-beac-4264-9948-3cf02057ee1e",
   "metadata": {},
   "outputs": [],
   "source": [
    "def convert_excel_to_csv(input_excel_file, output_csv_file):\n",
    "    df = pd.read_excel(input_excel_file)\n",
    "    df.to_csv(output_csv_file, index=False)"
   ]
  },
  {
   "cell_type": "code",
   "execution_count": null,
   "id": "4ad928d0-153e-4f01-a96e-708b433e55e4",
   "metadata": {},
   "outputs": [],
   "source": [
    "def read_mpn_from_csv(file_path):\n",
    "    products = []\n",
    "    with open(file_path, newline='', encoding='utf-8') as csvfile:\n",
    "        reader = csv.reader(csvfile)\n",
    "        next(reader)  # Skip header row if present\n",
    "        for row in reader:\n",
    "            products.append(Product(mpn=row[0]))\n",
    "    return products"
   ]
  },
  {
   "cell_type": "code",
   "execution_count": 6,
   "id": "882703e3-eab1-4f48-b7e8-7923c7debc22",
   "metadata": {},
   "outputs": [],
   "source": [
    "def scrape_price_for_mpn_raw(mpn):\n",
    "    url = f\"https://example.com/search?q={mpn}\"\n",
    "    headers = {\n",
    "        'User-Agent': 'Mozilla/5.0 (Windows NT 10.0; Win64; x64) AppleWebKit/537.36 (KHTML, like Gecko) Chrome/58.0.3029.110 Safari/537.3'}\n",
    "    try:\n",
    "        response = requests.get(url, headers=headers)\n",
    "        response.raise_for_status()\n",
    "        soup = BeautifulSoup(response.text, 'html.parser')\n",
    "        price_element = soup.find('span', class_='price')  # Update with actual structure\n",
    "        if not price_element:\n",
    "            print(f\"Price element not found for MPN {mpn}\")\n",
    "            return None\n",
    "        price = price_element.text.strip()\n",
    "        return price\n",
    "    except Exception as e:\n",
    "        print(f\"Error scraping {mpn}: {e}\")\n",
    "        return None"
   ]
  },
  {
   "cell_type": "code",
   "execution_count": 7,
   "id": "5db20633-e8b9-4a31-95ee-78b41a4bfe2e",
   "metadata": {},
   "outputs": [],
   "source": [
    "def scrape_price_for_mpn_selenium(mpn):\n",
    "    \"\"\"\n",
    "    Uses Selenium to find the search bar, enter the MPN, and select an item from the search results.\n",
    "    \"\"\"\n",
    "    # Replace with the URL of the website you are scraping\n",
    "    url = \"https://www.avantorsciences.com/us/en/\"\n",
    "    \n",
    "    # Path to your WebDriver executable\n",
    "    driver_path = \"/chromedriver\"  # Replace with the actual path to your WebDriver\n",
    "    \n",
    "    # Initialize the WebDriver\n",
    "    options = webdriver.ChromeOptions()\n",
    "    options.add_argument('--headless')  # Run browser in headless mode\n",
    "    options.add_argument('--disable-gpu')  # Disable GPU for headless\n",
    "    options.add_argument('--no-sandbox')\n",
    "    \n",
    "    driver = webdriver.Chrome(executable_path=driver_path, options=options)\n",
    "    \n",
    "    try:\n",
    "        # Navigate to the website\n",
    "        driver.get(url)\n",
    "        \n",
    "        # Wait for the search bar to load\n",
    "        wait = WebDriverWait(driver, 10)\n",
    "        search_bar = wait.until(EC.presence_of_element_located((By.NAME, \"search\")))  # Replace `name=\"search\"` with the actual locator\n",
    "        \n",
    "        # Enter the MPN into the search bar\n",
    "        search_bar.clear()\n",
    "        search_bar.send_keys(mpn)\n",
    "        search_bar.send_keys(Keys.RETURN)\n",
    "        \n",
    "        # Wait for the search results to load\n",
    "        wait.until(EC.presence_of_element_located((By.CLASS_NAME, \"result-item\")))  # Replace with the actual class name\n",
    "        \n",
    "        # Select the first result\n",
    "        first_result = driver.find_element(By.CLASS_NAME, \"result-item\")  # Replace with the actual class name\n",
    "        first_result.click()\n",
    "        \n",
    "        # Wait for the product page to load\n",
    "        wait.until(EC.presence_of_element_located((By.CLASS_NAME, \"price\")))  # Replace with the actual class for price\n",
    "        \n",
    "        # Extract the price\n",
    "        price_element = driver.find_element(By.CLASS_NAME, \"price\")  # Replace with the actual class for price\n",
    "        price = price_element.text.strip()\n",
    "        return price\n",
    "    except Exception as e:\n",
    "        print(f\"Error with MPN {mpn}: {e}\")\n",
    "        return None\n",
    "    finally:\n",
    "        # Close the browser\n",
    "        driver.quit()"
   ]
  },
  {
   "cell_type": "code",
   "execution_count": null,
   "id": "70a8340a-6d81-4d60-8410-c58352f4fb85",
   "metadata": {},
   "outputs": [],
   "source": [
    "def scrape_prices(products):\n",
    "    for product in products:\n",
    "        product.price = scrape_price_for_mpn_selenium(product.mpn)"
   ]
  },
  {
   "cell_type": "code",
   "execution_count": null,
   "id": "6b091b03-a086-4e0f-881f-9101b51ff7a0",
   "metadata": {},
   "outputs": [],
   "source": [
    "def write_prices_to_csv(products, output_file):\n",
    "    with open(output_file, mode='w', newline='', encoding='utf-8') as csvfile:\n",
    "        writer = csv.writer(csvfile)\n",
    "        writer.writerow([\"MPN\", \"Price\"])\n",
    "        for product in products:\n",
    "            writer.writerow([product.mpn, product.price])"
   ]
  },
  {
   "cell_type": "code",
   "execution_count": null,
   "id": "aaf1688b-8bb9-4301-b834-f161b1a57bb2",
   "metadata": {},
   "outputs": [],
   "source": [
    "def write_prices_to_excel(products, output_file):\n",
    "    data = [{\"MPN\": product.mpn, \"Price\": product.price} for product in products]\n",
    "    df = pd.DataFrame(data)\n",
    "    df.to_excel(output_file, index=False)"
   ]
  },
  {
   "cell_type": "code",
   "execution_count": null,
   "id": "81332512",
   "metadata": {},
   "outputs": [],
   "source": [
    "\n",
    "# Define input and output file paths\n",
    "input_excel_file = \"mpns.xlsx\"  # Replace with your input Excel file\n",
    "temp_csv_file = \"mpns.csv\"\n",
    "output_csv_file = \"prices.csv\"\n",
    "output_excel_file = \"prices.xlsx\"\n",
    "\n",
    "# Step 1: Convert Excel to CSV\n",
    "convert_excel_to_csv(input_excel_file, temp_csv_file)\n",
    "print(\"Excel converted to CSV.\")\n",
    "\n",
    "# Step 2: Read MPNs from CSV\n",
    "products = read_mpn_from_csv(temp_csv_file)\n",
    "print(\"Products read from CSV:\", products)\n",
    "\n",
    "# Step 3: Scrape Prices\n",
    "scrape_prices(products)\n",
    "print(\"Prices scraped:\", products)\n",
    "\n",
    "# Step 4: Write to CSV\n",
    "write_prices_to_csv(products, output_csv_file)\n",
    "print(f\"Prices written to {output_csv_file}\")\n",
    "\n",
    "# Step 5: Write to Excel\n",
    "write_prices_to_excel(products, output_excel_file)\n",
    "print(f\"Prices written to {output_excel_file}\")\n"
   ]
  }
 ],
 "metadata": {
  "kernelspec": {
   "display_name": "env",
   "language": "python",
   "name": "python3"
  },
  "language_info": {
   "codemirror_mode": {
    "name": "ipython",
    "version": 3
   },
   "file_extension": ".py",
   "mimetype": "text/x-python",
   "name": "python",
   "nbconvert_exporter": "python",
   "pygments_lexer": "ipython3",
   "version": "3.9.6"
  }
 },
 "nbformat": 4,
 "nbformat_minor": 5
}
